{
  "nbformat": 4,
  "nbformat_minor": 0,
  "metadata": {
    "colab": {
      "provenance": []
    },
    "kernelspec": {
      "name": "python3",
      "display_name": "Python 3"
    },
    "language_info": {
      "name": "python"
    }
  },
  "cells": [
    {
      "cell_type": "code",
      "execution_count": 1,
      "metadata": {
        "colab": {
          "base_uri": "https://localhost:8080/"
        },
        "id": "BOC765pCPepq",
        "outputId": "c3bcf837-73dc-4789-f456-14328f75bae7"
      },
      "outputs": [
        {
          "output_type": "stream",
          "name": "stderr",
          "text": [
            "[nltk_data] Downloading package punkt to /root/nltk_data...\n",
            "[nltk_data]   Unzipping tokenizers/punkt.zip.\n",
            "[nltk_data] Downloading package stopwords to /root/nltk_data...\n",
            "[nltk_data]   Unzipping corpora/stopwords.zip.\n"
          ]
        },
        {
          "output_type": "execute_result",
          "data": {
            "text/plain": [
              "True"
            ]
          },
          "metadata": {},
          "execution_count": 1
        }
      ],
      "source": [
        "import heapq\n",
        "import nltk\n",
        "from nltk.tokenize import sent_tokenize, word_tokenize\n",
        "from nltk.corpus import stopwords\n",
        "from nltk.probability import FreqDist\n",
        "from string import punctuation\n",
        "\n",
        "nltk.download('punkt')\n",
        "nltk.download('stopwords')"
      ]
    },
    {
      "cell_type": "code",
      "source": [
        "def summarize(text, num_sentences=3):\n",
        "    # Tokenize the text into sentences\n",
        "    sentences = sent_tokenize(text)\n",
        "\n",
        "    # Tokenize the text into words and filter out stop words and punctuation\n",
        "    words = word_tokenize(text.lower())\n",
        "    stop_words = set(stopwords.words('english'))\n",
        "    words = [word for word in words if word not in stop_words and word not in punctuation]\n",
        "\n",
        "    # Calculate word frequencies\n",
        "    word_frequencies = FreqDist(words)\n",
        "\n",
        "    # Score sentences based on word frequencies\n",
        "    sentence_scores = {}\n",
        "    for sentence in sentences:\n",
        "        sentence_words = word_tokenize(sentence.lower())\n",
        "        for word in sentence_words:\n",
        "            if word in word_frequencies:\n",
        "                if sentence not in sentence_scores:\n",
        "                    sentence_scores[sentence] = word_frequencies[word]\n",
        "                else:\n",
        "                    sentence_scores[sentence] += word_frequencies[word]\n",
        "\n",
        "    # Select the top sentences for the summary\n",
        "    summary_sentences = heapq.nlargest(num_sentences, sentence_scores, key=sentence_scores.get)\n",
        "\n",
        "    # Combine the selected sentences to form the summary\n",
        "    summary = ' '.join(summary_sentences)\n",
        "    return summary\n"
      ],
      "metadata": {
        "id": "esTM-QFTPshD"
      },
      "execution_count": 2,
      "outputs": []
    },
    {
      "cell_type": "code",
      "source": [
        "# Sample text\n",
        "text = \"\"\"\n",
        "Text summarization is the process of creating a short, accurate, and fluent summary of an article.\n",
        "The purpose is to present the most important information from the original text.\n",
        "There are two main types of text summarization: extractive and abstractive.\n",
        "Extractive summarization involves selecting important sentences from the original text and combining them to create a summary.\n",
        "Abstractive summarization involves generating new sentences that capture the key points of the original text.\n",
        "\"\"\"\n",
        "\n",
        "# Generate the summary\n",
        "summary = summarize(text)\n",
        "print(\"Original Text:\\n\", text)\n",
        "print(\"\\nSummary:\\n\", summary)"
      ],
      "metadata": {
        "colab": {
          "base_uri": "https://localhost:8080/"
        },
        "id": "pTeIaSOAPzvT",
        "outputId": "5a103537-eb05-41cf-c56e-89925ecee2a7"
      },
      "execution_count": 3,
      "outputs": [
        {
          "output_type": "stream",
          "name": "stdout",
          "text": [
            "Original Text:\n",
            " \n",
            "Text summarization is the process of creating a short, accurate, and fluent summary of an article. \n",
            "The purpose is to present the most important information from the original text. \n",
            "There are two main types of text summarization: extractive and abstractive. \n",
            "Extractive summarization involves selecting important sentences from the original text and combining them to create a summary. \n",
            "Abstractive summarization involves generating new sentences that capture the key points of the original text.\n",
            "\n",
            "\n",
            "Summary:\n",
            " Extractive summarization involves selecting important sentences from the original text and combining them to create a summary. Abstractive summarization involves generating new sentences that capture the key points of the original text. \n",
            "Text summarization is the process of creating a short, accurate, and fluent summary of an article.\n"
          ]
        }
      ]
    },
    {
      "cell_type": "code",
      "source": [],
      "metadata": {
        "id": "SvSWNFpIP1rh"
      },
      "execution_count": null,
      "outputs": []
    }
  ]
}