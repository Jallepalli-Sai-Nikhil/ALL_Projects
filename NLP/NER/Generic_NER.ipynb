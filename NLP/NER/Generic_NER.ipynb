{
  "nbformat": 4,
  "nbformat_minor": 0,
  "metadata": {
    "colab": {
      "provenance": []
    },
    "kernelspec": {
      "name": "python3",
      "display_name": "Python 3"
    },
    "language_info": {
      "name": "python"
    }
  },
  "cells": [
    {
      "cell_type": "code",
      "execution_count": 6,
      "metadata": {
        "colab": {
          "base_uri": "https://localhost:8080/"
        },
        "id": "BOC765pCPepq",
        "outputId": "ab956ff6-a21a-4150-ff4e-09c1a3ef2271"
      },
      "outputs": [
        {
          "output_type": "stream",
          "name": "stderr",
          "text": [
            "[nltk_data] Downloading package punkt to /root/nltk_data...\n",
            "[nltk_data]   Package punkt is already up-to-date!\n",
            "[nltk_data] Downloading package maxent_ne_chunker to\n",
            "[nltk_data]     /root/nltk_data...\n",
            "[nltk_data]   Unzipping chunkers/maxent_ne_chunker.zip.\n",
            "[nltk_data] Downloading package words to /root/nltk_data...\n",
            "[nltk_data]   Unzipping corpora/words.zip.\n"
          ]
        },
        {
          "output_type": "execute_result",
          "data": {
            "text/plain": [
              "True"
            ]
          },
          "metadata": {},
          "execution_count": 6
        }
      ],
      "source": [
        "import nltk\n",
        "from nltk.tokenize import word_tokenize\n",
        "from nltk import pos_tag, ne_chunk\n",
        "\n",
        "# Download necessary NLTK data\n",
        "nltk.download('punkt')\n",
        "nltk.download('maxent_ne_chunker')\n",
        "nltk.download('words')"
      ]
    },
    {
      "cell_type": "code",
      "source": [
        "def named_entity_recognition(text):\n",
        "    # Tokenize the text into words\n",
        "    words = word_tokenize(text)\n",
        "    # Perform POS tagging on the tokenized words\n",
        "    pos_tags = pos_tag(words)\n",
        "    # Perform Named Entity Recognition on the POS-tagged words\n",
        "    named_entities = ne_chunk(pos_tags)\n",
        "    return named_entities"
      ],
      "metadata": {
        "id": "esTM-QFTPshD"
      },
      "execution_count": 7,
      "outputs": []
    },
    {
      "cell_type": "code",
      "source": [
        "# Sample text for NER\n",
        "text = \"Barack Obama was born on August 4, 1961, in Honolulu, Hawaii.\"\n",
        "\n",
        "# Perform NER\n",
        "named_entities = named_entity_recognition(text)\n",
        "print(\"Named Entities:\\n\", named_entities)"
      ],
      "metadata": {
        "colab": {
          "base_uri": "https://localhost:8080/"
        },
        "id": "SvSWNFpIP1rh",
        "outputId": "f3a4e03d-6c18-4525-b88b-619e837d9725"
      },
      "execution_count": 8,
      "outputs": [
        {
          "output_type": "stream",
          "name": "stdout",
          "text": [
            "Named Entities:\n",
            " (S\n",
            "  (PERSON Barack/NNP)\n",
            "  (PERSON Obama/NNP)\n",
            "  was/VBD\n",
            "  born/VBN\n",
            "  on/IN\n",
            "  August/NNP\n",
            "  4/CD\n",
            "  ,/,\n",
            "  1961/CD\n",
            "  ,/,\n",
            "  in/IN\n",
            "  (GPE Honolulu/NNP)\n",
            "  ,/,\n",
            "  (GPE Hawaii/NNP)\n",
            "  ./.)\n"
          ]
        }
      ]
    },
    {
      "cell_type": "code",
      "source": [],
      "metadata": {
        "id": "ri4aH6gmSp38"
      },
      "execution_count": null,
      "outputs": []
    }
  ]
}