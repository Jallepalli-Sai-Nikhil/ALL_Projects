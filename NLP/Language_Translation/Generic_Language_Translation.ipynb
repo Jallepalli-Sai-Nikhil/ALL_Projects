{
  "nbformat": 4,
  "nbformat_minor": 0,
  "metadata": {
    "colab": {
      "provenance": []
    },
    "kernelspec": {
      "name": "python3",
      "display_name": "Python 3"
    },
    "language_info": {
      "name": "python"
    }
  },
  "cells": [
    {
      "cell_type": "code",
      "execution_count": 9,
      "metadata": {
        "id": "BOC765pCPepq"
      },
      "outputs": [],
      "source": [
        "# Dictionary for language translation\n",
        "translation_dict = {\n",
        "    'en': {\n",
        "        'fr': {\n",
        "            'Text summarization is the process of creating a short, accurate, and fluent summary of an article.': 'La résumé de texte est le processus de création d\\'un résumé court, précis et fluide d\\'un article.'\n",
        "        },\n",
        "        'es': {\n",
        "            'Text summarization is the process of creating a short, accurate, and fluent summary of an article.': 'La summarización de texto es el proceso de crear un resumen corto, preciso y fluido de un artículo.'\n",
        "        }\n",
        "    },\n",
        "    'fr': {\n",
        "        'en': {\n",
        "            'La résumé de texte est le processus de création d\\'un résumé court, précis et fluide d\\'un article.': 'Text summarization is the process of creating a short, accurate, and fluent summary of an article.'\n",
        "        }\n",
        "    },\n",
        "    'es': {\n",
        "        'en': {\n",
        "            'La summarización de texto es el proceso de crear un resumen corto, preciso y fluido de un artículo.': 'Text summarization is the process of creating a short, accurate, and fluent summary of an article.'\n",
        "        }\n",
        "    }\n",
        "}\n"
      ]
    },
    {
      "cell_type": "code",
      "source": [
        "\n",
        "# Function to perform translation\n",
        "def translate_text(text, src_lang='en', dest_lang='fr'):\n",
        "    if src_lang in translation_dict and dest_lang in translation_dict[src_lang]:\n",
        "        translations = translation_dict[src_lang][dest_lang]\n",
        "        if text in translations:\n",
        "            return translations[text]\n",
        "    return \"Translation not available.\"\n"
      ],
      "metadata": {
        "id": "esTM-QFTPshD"
      },
      "execution_count": 10,
      "outputs": []
    },
    {
      "cell_type": "code",
      "source": [
        "\n",
        "# Sample text for translation\n",
        "text = \"Text summarization is the process of creating a short, accurate, and fluent summary of an article.\"\n",
        "src_lang = 'en'\n",
        "dest_lang = 'fr'\n",
        "\n",
        "# Perform translation\n",
        "translated_text = translate_text(text, src_lang, dest_lang)\n",
        "print(\"Original Text:\\n\", text)\n",
        "print(\"\\nTranslated Text:\\n\", translated_text)"
      ],
      "metadata": {
        "colab": {
          "base_uri": "https://localhost:8080/"
        },
        "id": "SvSWNFpIP1rh",
        "outputId": "672c7d3b-8ceb-48d0-b24e-1a7cd9cf0b4e"
      },
      "execution_count": 11,
      "outputs": [
        {
          "output_type": "stream",
          "name": "stdout",
          "text": [
            "Original Text:\n",
            " Text summarization is the process of creating a short, accurate, and fluent summary of an article.\n",
            "\n",
            "Translated Text:\n",
            " La résumé de texte est le processus de création d'un résumé court, précis et fluide d'un article.\n"
          ]
        }
      ]
    },
    {
      "cell_type": "code",
      "source": [],
      "metadata": {
        "id": "ri4aH6gmSp38"
      },
      "execution_count": null,
      "outputs": []
    }
  ]
}